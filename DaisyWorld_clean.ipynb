{
 "cells": [
  {
   "cell_type": "markdown",
   "metadata": {},
   "source": [
    "# Climate Hydrological Processes - Daisy World Practicum\n",
    "## Importing libraries"
   ]
  },
  {
   "cell_type": "code",
   "execution_count": 1,
   "metadata": {},
   "outputs": [],
   "source": [
    "import matplotlib.pyplot as plt\n",
    "import numpy as np\n",
    "import sys"
   ]
  },
  {
   "cell_type": "markdown",
   "metadata": {},
   "source": [
    "## Initialize model and set parameters"
   ]
  },
  {
   "cell_type": "markdown",
   "metadata": {},
   "source": [
    "### Set daisy parameters"
   ]
  },
  {
   "cell_type": "code",
   "execution_count": 13,
   "metadata": {},
   "outputs": [],
   "source": [
    "growth_rate_temp = 0.003265\n",
    "hor_ins = 20 \n",
    "deathrate = 0.2 \n",
    "WD_albedo = 0.75 # White Daisies albedo\n",
    "BD_albedo = 0.25 # Black Daisies albedo\n",
    "opt_temp_W = 22.5 # optimal temperature for White daisies\n",
    "opt_temp_W += 273.15 # Convert to Kelvin\n",
    "opt_temp_B = 10.5 # optimal temperature for Black daisies\n",
    "opt_temp_B += 273.15 # Convert to Kelvin"
   ]
  },
  {
   "cell_type": "markdown",
   "metadata": {},
   "source": [
    "### Initializing start values of daisies"
   ]
  },
  {
   "cell_type": "code",
   "execution_count": 14,
   "metadata": {},
   "outputs": [],
   "source": [
    "WD_area = 0.01 # White Daisies area\n",
    "BD_area = 0.01 # Black Daisies area"
   ]
  },
  {
   "cell_type": "markdown",
   "metadata": {},
   "source": [
    "### Intitalizing lists to store intermediate/output"
   ]
  },
  {
   "cell_type": "code",
   "execution_count": 8,
   "metadata": {},
   "outputs": [],
   "source": [
    "eq_temperature = []\n",
    "eq_area_WD = []\n",
    "eq_area_BD = []\n",
    "temp_log_no_daisy = []"
   ]
  },
  {
   "cell_type": "markdown",
   "metadata": {},
   "source": [
    "### Set global constants"
   ]
  },
  {
   "cell_type": "code",
   "execution_count": 7,
   "metadata": {},
   "outputs": [],
   "source": [
    "solar_constant = 1000\n",
    "barren_albedo = 0.5\n",
    "Stefan_Boltzmann = 5.67e-08\n",
    "dt = 1. # intergration stepsize"
   ]
  },
  {
   "cell_type": "markdown",
   "metadata": {},
   "source": [
    "### Create numpy array for luminosity\n",
    "The numpy array 'luminosity_range' will point to the list of Luminisity values (L) we will use, i.e. ranging from 0.5 to 1.7 with intervals of 0.002."
   ]
  },
  {
   "cell_type": "code",
   "execution_count": 12,
   "metadata": {},
   "outputs": [],
   "source": [
    "# create a sequence of numbers (i.e. an array) using the numpy python library\n",
    "luminosity_range = np.arange(0.5, 1.7, 0.002)\n",
    "#luminosity_range = luminosity_range[::-1] <-- to reverse the array, needed for next practicum"
   ]
  },
  {
   "cell_type": "markdown",
   "metadata": {},
   "source": [
    "# Making a for loop\n",
    "Now that we have our variables we can start a loop that will find an equilibrium for every given value of Luminisity (L). "
   ]
  },
  {
   "cell_type": "code",
   "execution_count": null,
   "metadata": {},
   "outputs": [],
   "source": [
    "# initializing start values of daisies\n",
    "BD_area_init = BD_area\n",
    "WD_area_init = WD_area\n",
    "for L in luminosity_range:\n",
    "#    BD_area = BD_area_init\n",
    "#    WD_area = WD_area_init\n",
    "    \n",
    "    Convergence = False\n",
    "    n = 0\n",
    "    while Convergence == False:\n",
    "        n += 1\n",
    "        # =====================================================================\n",
    "        # Solve equations for single L\n",
    "        # =====================================================================\n",
    "        \n",
    "        # 1 find planetary albedo\n",
    "        DW_fertile_land = \n",
    "        DW_albedo = \n",
    "        \n",
    "        # 2 find planetary temperature\n",
    "        DW_temperature = \n",
    "        \n",
    "        # 3 find local temperature of daisies\n",
    "        WD_localtemp = \n",
    "        BD_localtemp = \n",
    "        \n",
    "        # 4 find birthrate for daisy\n",
    "        #prevent negative birthrate with standard python function max(a,b) \n",
    "        dWD_birth = \n",
    "        dBD_birth = \n",
    "        \n",
    "        # 5 calulate change in daisy areas due to birth and death\n",
    "        dWD_area = \n",
    "        dBD_area = \n",
    "        \n",
    "        # 6 update area's\n",
    "        #using forward Euler method to approximate differential equation for incease in area over time:\n",
    "        WD_area += (WD_area * (DW_fertile_land * dWD_birth - deathrate)) \n",
    "        BD_area += (BD_area * (DW_fertile_land * dBD_birth - deathrate)) \n",
    "        # ensure that daisys area is >= 0.01 with max(a,b) function, since too lower values \n",
    "        # will mean no seeds are available on the planet for growing \n",
    "        WD_area = \n",
    "        BD_area = \n",
    "        \n",
    "        # 7 calculate new albedo\n",
    "        DW_fertile_land = \n",
    "        DW_albedo = \n",
    "        \n",
    "        # 8 calulate new temperature \n",
    "        DW_temp_next = \n",
    "\n",
    "        # 9 check for convergence of Daisy World temperature \n",
    "        Convergence = abs(DW_temperature - DW_temp_next)<1E-6\n",
    "        \n",
    "        # 10 temperature without daisies\n",
    "        no_daisy_temp = ((solar_constant * L * (1-0.5)) / (Stefan_Boltzmann))**0.25\n",
    "\n",
    "        if n > 2000:\n",
    "            Convergence = True\n",
    "            print('reached max convergence iterations')\n",
    "\n",
    "#        if Convergence == True:\n",
    "#            print(n) # to print number of steps before convergence')\n",
    "    \n",
    "    # =============================================================================\n",
    "    # save the equilibrium variables for each L into list generated at the beginning\n",
    "    # =============================================================================\n",
    "    eq_temperature.append(DW_temp_next)\n",
    "    eq_area_WD.append(WD_area)\n",
    "    eq_area_BD.append(BD_area)\n",
    "    temp_log_no_daisy.append(no_daisy_temp)"
   ]
  }
 ],
 "metadata": {
  "kernelspec": {
   "display_name": "Python 3",
   "language": "python",
   "name": "python3"
  },
  "language_info": {
   "codemirror_mode": {
    "name": "ipython",
    "version": 3
   },
   "file_extension": ".py",
   "mimetype": "text/x-python",
   "name": "python",
   "nbconvert_exporter": "python",
   "pygments_lexer": "ipython3",
   "version": "3.7.3"
  }
 },
 "nbformat": 4,
 "nbformat_minor": 4
}
