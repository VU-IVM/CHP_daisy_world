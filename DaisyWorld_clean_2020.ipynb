{
 "cells": [
  {
   "cell_type": "markdown",
   "metadata": {},
   "source": [
    "# Daisy World\n",
    "## Importing libraries"
   ]
  },
  {
   "cell_type": "code",
   "execution_count": null,
   "metadata": {},
   "outputs": [],
   "source": [
    "import matplotlib.pyplot as plt\n",
    "import numpy as np\n",
    "import sys"
   ]
  },
  {
   "cell_type": "markdown",
   "metadata": {},
   "source": [
    "## Initialize model and set parameters"
   ]
  },
  {
   "cell_type": "markdown",
   "metadata": {},
   "source": [
    "### Set daisy parameters"
   ]
  },
  {
   "cell_type": "code",
   "execution_count": null,
   "metadata": {},
   "outputs": [],
   "source": [
    "hor_ins = 20 \n",
    "deathrate = 0.2 \n",
    "WD_albedo = 0.75 # White Daisies albedo\n",
    "BD_albedo = 0.25 # Black Daisies albedo\n",
    "opt_temp_W = 22.5 # optimal temperature for White daisies\n",
    "opt_temp_W += 273.15 # Convert to Kelvin\n",
    "opt_temp_B = 22.5 # optimal temperature for Black daisies\n",
    "opt_temp_B += 273.15 # Convert to Kelvin"
   ]
  },
  {
   "cell_type": "markdown",
   "metadata": {},
   "source": [
    "### Initializing start values of daisies"
   ]
  },
  {
   "cell_type": "code",
   "execution_count": null,
   "metadata": {},
   "outputs": [],
   "source": [
    "WD_area = 0.01 # White Daisies area\n",
    "BD_area = 0.01 # Black Daisies area"
   ]
  },
  {
   "cell_type": "markdown",
   "metadata": {},
   "source": [
    "### Set global constants"
   ]
  },
  {
   "cell_type": "code",
   "execution_count": null,
   "metadata": {},
   "outputs": [],
   "source": [
    "barren_albedo=0.5\n",
    "solar_constant = 1000\n",
    "Stefan_Boltzmann = 5.67e-08\n",
    "dt = 1 # intergration stepsize"
   ]
  },
  {
   "cell_type": "markdown",
   "metadata": {},
   "source": [
    "# Function to compute the evolution of daisies\n",
    "\n",
    "When the code is working, please make a function called 'DW_simulation' out of it, see step 2 of 'writing your code' in the DaisyWorld_assignment.docx."
   ]
  },
  {
   "cell_type": "code",
   "execution_count": null,
   "metadata": {},
   "outputs": [],
   "source": [
    "L = 1\n",
    "Convergence = False\n",
    "n = 0\n",
    "while Convergence == False: # enter the while loop:\n",
    "    n += 1\n",
    "    # =====================================================================\n",
    "    # Solve equations for single L\n",
    "    # =====================================================================\n",
    "\n",
    "    # 1 find planetary albedo\n",
    "    DW_fertile_land = \n",
    "    DW_albedo = \n",
    "\n",
    "    # 2 find planetary temperature\n",
    "    DW_temperature = \n",
    "\n",
    "    # 3 find local temperature of daisies\n",
    "    WD_localtemp = \n",
    "    BD_localtemp = \n",
    "\n",
    "    # 4 find birthrate for daisy\n",
    "    #prevent negative birthrate with standard python function max(a,b) \n",
    "    dWD_birth = \n",
    "    dBD_birth = \n",
    "\n",
    "    # 5 calulate change in daisy areas due to birth and death\n",
    "    dWD_area = \n",
    "    dBD_area = \n",
    "\n",
    "    # 6 update area's\n",
    "    #using forward Euler method to approximate differential equation for incease in area over time:\n",
    "    WD_area += (WD_area * (DW_fertile_land * dWD_birth - deathrate)) \n",
    "    BD_area += (BD_area * (DW_fertile_land * dBD_birth - deathrate)) \n",
    "    # ensure that daisys area is >= 0.01 with max(a,b) function, since too lower values \n",
    "    # will mean no seeds are available on the planet for growing \n",
    "    WD_area = \n",
    "    BD_area = \n",
    "\n",
    "    # 7 calculate new albedo\n",
    "    DW_fertile_land = \n",
    "    DW_albedo = \n",
    "\n",
    "    # 8 calulate new temperature \n",
    "    DW_temp_next = \n",
    "\n",
    "    # 9 check for convergence of Daisy World temperature \n",
    "    Convergence = abs(DW_temperature - DW_temp_next)<1E-6\n",
    "\n",
    "    # 10 temperature without daisies\n",
    "    no_daisy_temp = ((solar_constant * L * (1-0.5)) / (Stefan_Boltzmann))**0.25\n",
    "\n",
    "    if n > 2000:\n",
    "        Convergence = True\n",
    "        print('reached max convergence iterations')\n",
    "    WD_area_list.append(WD_area) # store the WD_area for each timestep\n",
    "    BD_area_list.append(BD_area) # store the BD_area for each timestep\n",
    "    temperature_list.append(DW_temp_next) # store the temperature for each timestep\n",
    "        \n",
    "    "
   ]
  },
  {
   "cell_type": "markdown",
   "metadata": {},
   "source": [
    "## Plotting Temperature of Daisy World as function of time:"
   ]
  },
  {
   "cell_type": "code",
   "execution_count": null,
   "metadata": {},
   "outputs": [],
   "source": [
    "def DW_vs_time(temperature_list, WD_area_list, BD_area_list):\n",
    "    fig, ax = plt.subplots(1,2, figsize=(15,5))\n",
    "    ax[1].plot(temperature_list, label='Temperature')\n",
    "    ax[1].set_xlabel('timesteps')\n",
    "    ax[1].set_ylabel('Temperature (K)')\n",
    "    ax[1].set_title(\"Evolution of temperature (K)\")\n",
    "    ax[1].legend()\n",
    "    ax[0].plot(WD_area_list, label='White daisies')\n",
    "    ax[0].plot(BD_area_list, label='Black daisies')\n",
    "    ax[0].set_xlabel('timesteps')\n",
    "    ax[0].set_ylabel('Temperature (K)')\n",
    "    ax[0].set_title(\"Evolution of black and white daisies\")\n",
    "    ax[0].legend()\n",
    "    plt.show()"
   ]
  },
  {
   "cell_type": "markdown",
   "metadata": {},
   "source": [
    "# Simulate impact of daisies on the equilibrium temperature \n",
    "Create code where you loop over a range of luminosities, see step 4 of 'writing your code' in the DaisyWorld_assignment.docx."
   ]
  },
  {
   "cell_type": "markdown",
   "metadata": {},
   "source": [
    "### Create numpy array for luminosity\n",
    "The numpy array 'luminosity_range' will point to the list of Luminisity values (L) we will use, i.e. ranging from 0.5 to 1.7 with intervals of 0.002."
   ]
  },
  {
   "cell_type": "code",
   "execution_count": null,
   "metadata": {},
   "outputs": [],
   "source": [
    "# create a sequence of numbers (i.e. an array) using the numpy python library\n",
    "luminosity_range = np.arange(0.2, 1.7, 0.002)\n",
    "#luminosity_range = luminosity_range[::-1] <-- to reverse the array, needed for next practicum"
   ]
  },
  {
   "cell_type": "code",
   "execution_count": null,
   "metadata": {},
   "outputs": [],
   "source": [
    "# create your daisy_world() function in this cell.\n"
   ]
  },
  {
   "cell_type": "markdown",
   "metadata": {},
   "source": [
    "# Plotting functions \n",
    "When your in an advanced state, nicely write all your plotting functions below. This improves readability of the notebook."
   ]
  },
  {
   "cell_type": "markdown",
   "metadata": {},
   "source": [
    "# Experiments\n",
    "When you have your code finished, perform the experiments listed in 'Daisy World questions' 3 to 5. Do this in the cells below by calling the function daisy_world with the appropriate settings."
   ]
  },
  {
   "cell_type": "code",
   "execution_count": null,
   "metadata": {},
   "outputs": [],
   "source": []
  }
 ],
 "metadata": {
  "kernelspec": {
   "display_name": "Python 3",
   "language": "python",
   "name": "python3"
  },
  "language_info": {
   "codemirror_mode": {
    "name": "ipython",
    "version": 3
   },
   "file_extension": ".py",
   "mimetype": "text/x-python",
   "name": "python",
   "nbconvert_exporter": "python",
   "pygments_lexer": "ipython3",
   "version": "3.7.3"
  }
 },
 "nbformat": 4,
 "nbformat_minor": 4
}
